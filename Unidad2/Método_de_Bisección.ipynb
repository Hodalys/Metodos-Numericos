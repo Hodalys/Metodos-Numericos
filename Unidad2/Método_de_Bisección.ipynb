{
 "cells": [
  {
   "cell_type": "code",
   "execution_count": 16,
   "id": "a40b6932",
   "metadata": {},
   "outputs": [],
   "source": [
    "# Método de Bisección\n",
    "\n",
    "def biseccion(f, a, b, tol, N0):\n",
    "    \"\"\"\n",
    "    Parámetros:\n",
    "    f (función): La función con la que se está trabajando.\n",
    "    a (float): El límite inferior del intervalo inicial.\n",
    "    b (float): El límite superior del intervalo inicial.\n",
    "    tol (float): La tolerancia deseada para la solución.\n",
    "    N0 (int): El número máximo de iteraciones permitidas.\n",
    "    \n",
    "    Devuelve: la raíz a la que se aproxima la función f en el intervalo [a, b].\n",
    "    \"\"\"\n",
    "    i = 1\n",
    "    FA = f(a)\n",
    "    \n",
    "    while i <= N0:\n",
    "        p = a + (b - a) / 2\n",
    "        FP = f(p)\n",
    "        \n",
    "        if FP == 0 or (b - a) / 2 < tol:\n",
    "            return p\n",
    "        if FA * FP > 0:\n",
    "            a = p\n",
    "            FA = FP\n",
    "        else:\n",
    "            b = p\n",
    "        i += 1\n",
    "    # En caso de que no se encuentre la raíz en el número máximo de iteraciones\n",
    "    # se devuelve un mensaje indicando que el método falló.\n",
    "    return \"El método fracasó después de {} iteraciones.\".format(N0)\n"
   ]
  },
  {
   "cell_type": "code",
   "execution_count": 26,
   "id": "0b0e7c6e",
   "metadata": {},
   "outputs": [],
   "source": [
    "# Ejercicio 1\n",
    "def f(x):\n",
    "    return x**3 - 7*x**2 + 14*x - 6\n",
    "\n",
    "tol = 1e-2\n",
    "N0 = 50"
   ]
  },
  {
   "cell_type": "code",
   "execution_count": 27,
   "id": "a071d6fc",
   "metadata": {},
   "outputs": [
    {
     "name": "stdout",
     "output_type": "stream",
     "text": [
      "La función tiene una raíz de 0.5859375  en el intervalo [0, 1]\n"
     ]
    }
   ],
   "source": [
    "a = 0\n",
    "b = 1\n",
    "\n",
    "resultado = biseccion(f, a, b, tol, N0)\n",
    "print(\"La función tiene una raíz de\", resultado, \" en el intervalo [0, 1]\")"
   ]
  },
  {
   "cell_type": "code",
   "execution_count": 29,
   "id": "7918a809",
   "metadata": {},
   "outputs": [
    {
     "name": "stdout",
     "output_type": "stream",
     "text": [
      "La función tiene una raíz de 3.0023437500000005  en el intervalo [1, 3.2]\n"
     ]
    }
   ],
   "source": [
    "a = 1\n",
    "b = 3.2\n",
    "\n",
    "resultado = biseccion(f, a, b, tol, N0)\n",
    "print(\"La función tiene una raíz de\", resultado, \" en el intervalo [1, 3.2]\")"
   ]
  },
  {
   "cell_type": "code",
   "execution_count": 30,
   "id": "7fa7180b",
   "metadata": {},
   "outputs": [
    {
     "name": "stdout",
     "output_type": "stream",
     "text": [
      "La función tiene una raíz de 3.41875  en el intervalo [3.2, 4]\n"
     ]
    }
   ],
   "source": [
    "a = 3.2\n",
    "b = 4\n",
    "\n",
    "resultado = biseccion(f, a, b, tol, N0)\n",
    "print(\"La función tiene una raíz de\", resultado, \" en el intervalo [3.2, 4]\")"
   ]
  }
 ],
 "metadata": {
  "kernelspec": {
   "display_name": "base",
   "language": "python",
   "name": "python3"
  },
  "language_info": {
   "codemirror_mode": {
    "name": "ipython",
    "version": 3
   },
   "file_extension": ".py",
   "mimetype": "text/x-python",
   "name": "python",
   "nbconvert_exporter": "python",
   "pygments_lexer": "ipython3",
   "version": "3.12.4"
  }
 },
 "nbformat": 4,
 "nbformat_minor": 5
}
