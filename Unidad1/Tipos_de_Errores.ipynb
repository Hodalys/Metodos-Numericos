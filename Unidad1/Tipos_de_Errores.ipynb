{
 "cells": [
  {
   "cell_type": "markdown",
   "id": "e9270d9b",
   "metadata": {},
   "source": [
    "# Tipos de Errores"
   ]
  },
  {
   "cell_type": "markdown",
   "id": "9f5e89aa",
   "metadata": {},
   "source": [
    "**Nota: Para los ejemplos relacionados con este tema, se utilizará la constante de Euler disponible en la biblioteca math de Python.**"
   ]
  },
  {
   "cell_type": "code",
   "execution_count": 1,
   "id": "416d27f8",
   "metadata": {},
   "outputs": [],
   "source": [
    "import math\n",
    "\n",
    "num_original = math.e  # Número de Euler 2.718281828459045"
   ]
  },
  {
   "cell_type": "markdown",
   "id": "eda83380",
   "metadata": {},
   "source": [
    "## Error de corte o truncamiento"
   ]
  },
  {
   "cell_type": "markdown",
   "id": "123a7e09",
   "metadata": {},
   "source": [
    "El error se da cuando se simplifica o \"corta\" un cálculo al dejar de lado una parte de una serie infinita."
   ]
  },
  {
   "cell_type": "code",
   "execution_count": 2,
   "id": "8228daae",
   "metadata": {},
   "outputs": [
    {
     "name": "stdout",
     "output_type": "stream",
     "text": [
      "Número original: 2.718281828459045\n",
      "Número truncado: 2.718\n"
     ]
    }
   ],
   "source": [
    "# Ejemplo de error por truncamiento\n",
    "num_trunc = int(num_original * 1000) / 1000  # Truncar a 4 cifras significativas\n",
    "\n",
    "print(\"Número original:\", num_original)\n",
    "print(\"Número truncado:\", num_trunc)"
   ]
  },
  {
   "cell_type": "markdown",
   "id": "3202fac0",
   "metadata": {},
   "source": [
    "## Error de redondeo"
   ]
  },
  {
   "cell_type": "markdown",
   "id": "4fe8d3f5",
   "metadata": {},
   "source": [
    "El error de redondeo ajusta un número a un valor más fácil de manejar. Si el número que sigue es mayor o igual a 5 se redondea hacia arriba, caso contrario se redondea hacia abajo."
   ]
  },
  {
   "cell_type": "code",
   "execution_count": 3,
   "id": "4ae6a829",
   "metadata": {},
   "outputs": [
    {
     "name": "stdout",
     "output_type": "stream",
     "text": [
      "Número original: 2.718281828459045\n",
      "Número redondeado: 2.7183\n"
     ]
    }
   ],
   "source": [
    "# Ejemplo de error por redondeo\n",
    "num_redo = 2.7183  # Redondear a 5 cifras significativas\n",
    "\n",
    "print(\"Número original:\", num_original)\n",
    "print(\"Número redondeado:\", num_redo)"
   ]
  },
  {
   "cell_type": "markdown",
   "id": "673712c2",
   "metadata": {},
   "source": [
    "## Error de debordamiento"
   ]
  },
  {
   "cell_type": "markdown",
   "id": "b6f49897",
   "metadata": {},
   "source": [
    "Ocurre cuando una cantidad infinita de números provoca que no se acerque al resultado."
   ]
  },
  {
   "cell_type": "code",
   "execution_count": 4,
   "id": "4522e863",
   "metadata": {},
   "outputs": [
    {
     "name": "stdout",
     "output_type": "stream",
     "text": [
      "Resultado: inf\n"
     ]
    }
   ],
   "source": [
    "# Ejemplo de error de desbordamiento\n",
    "resultado = 1.0\n",
    "for i in range(1, 1000):  # Multiplicación repetida\n",
    "    resultado = resultado * 10  # Incrementa el valor exponencialmente\n",
    "\n",
    "print(\"Resultado:\", resultado)"
   ]
  }
 ],
 "metadata": {
  "kernelspec": {
   "display_name": "base",
   "language": "python",
   "name": "python3"
  },
  "language_info": {
   "codemirror_mode": {
    "name": "ipython",
    "version": 3
   },
   "file_extension": ".py",
   "mimetype": "text/x-python",
   "name": "python",
   "nbconvert_exporter": "python",
   "pygments_lexer": "ipython3",
   "version": "3.12.4"
  }
 },
 "nbformat": 4,
 "nbformat_minor": 5
}
