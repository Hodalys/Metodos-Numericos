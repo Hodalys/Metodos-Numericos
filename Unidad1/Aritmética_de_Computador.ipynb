{
 "cells": [
  {
   "cell_type": "markdown",
   "id": "ca3acaec",
   "metadata": {},
   "source": [
    "# Aritmética de Dígitos Finitos de Computador"
   ]
  },
  {
   "cell_type": "markdown",
   "id": "a042fb56",
   "metadata": {},
   "source": [
    "$$ \\pm 0.d_1d_2...d_k \\times 10^n, 1 \\leq d_i \\leq 9$$"
   ]
  },
  {
   "cell_type": "markdown",
   "id": "55cee2f5",
   "metadata": {},
   "source": [
    "Se refiere a la forma en que las computadoras realizan cálculos matemáticos, con las operaciones principales:\n",
    "- Suma: x ⊕ y \n",
    "- Resta: x ⊖ y\n",
    "- Multiplicación: x ⊗ y\n",
    "- División: x ⊘ y"
   ]
  },
  {
   "cell_type": "markdown",
   "id": "b7e63199",
   "metadata": {},
   "source": [
    "$$x - y \\neq x ⊖ y$$\n",
    "El primero muestra el valor real, mientras que el segundo corresponde al valor truncado o redondeado."
   ]
  },
  {
   "cell_type": "markdown",
   "id": "eb2a3dd3",
   "metadata": {},
   "source": [
    "**Nota: Para los siguientes ejemplos se utilizará constantes de la librería math y error de corte o truncamiento a 4 cifras significativas.**"
   ]
  },
  {
   "cell_type": "code",
   "execution_count": 16,
   "id": "e0f9e209",
   "metadata": {},
   "outputs": [],
   "source": [
    "import math"
   ]
  },
  {
   "cell_type": "markdown",
   "id": "43635d51",
   "metadata": {},
   "source": [
    "## Suma"
   ]
  },
  {
   "cell_type": "code",
   "execution_count": 17,
   "id": "4ca2a475",
   "metadata": {},
   "outputs": [
    {
     "name": "stdout",
     "output_type": "stream",
     "text": [
      "Valor original de x: 2.6666666666666665\n",
      "Valor original de y: 0.85371\n",
      "\n",
      "Valor truncado de x: 2.666\n",
      "Valor truncado de y: 0.853\n",
      "Suma de los números truncados: 3.519\n",
      "Error absoluto: 0.0013766666666663596\n"
     ]
    }
   ],
   "source": [
    "x = 8/3 \n",
    "print(\"Valor original de x:\", x)\n",
    "y = 0.85371\n",
    "print(\"Valor original de y:\", y)\n",
    "suma = x + y\n",
    "\n",
    "# Corte a 4 cifras significativas\n",
    "x_trunc = 2.666\n",
    "y_trunc = 0.853\n",
    "print()\n",
    "print(\"Valor truncado de x:\", x_trunc)\n",
    "print(\"Valor truncado de y:\", y_trunc)\n",
    "\n",
    "# Realizamos la suma de los números truncados\n",
    "suma_trunc = x_trunc + y_trunc\n",
    "print(\"Suma de los números truncados:\", suma_trunc)\n",
    "\n",
    "# Error absoluto\n",
    "error_abs = abs(suma - suma_trunc)\n",
    "print(\"Error absoluto:\", error_abs)"
   ]
  },
  {
   "cell_type": "markdown",
   "id": "4b0462b2",
   "metadata": {},
   "source": [
    "## Resta"
   ]
  },
  {
   "cell_type": "code",
   "execution_count": 15,
   "id": "55772ade",
   "metadata": {},
   "outputs": [
    {
     "name": "stdout",
     "output_type": "stream",
     "text": [
      "Valor original de x: 3.141592653589793\n",
      "Valor original de y: 1.4142135623730951\n",
      "\n",
      "Valor truncado de x: 3.142\n",
      "Valor truncado de y: 1.414\n",
      "Resta de los números truncados: 1.728\n",
      "Error relativo: 0.00035945137142111993\n"
     ]
    }
   ],
   "source": [
    "x = math.pi\n",
    "y = math.sqrt(2)  # Raíz cuadrada de 2\n",
    "print(\"Valor original de x:\", x)\n",
    "print(\"Valor original de y:\", y)\n",
    "resta = x - y\n",
    "\n",
    "# Corte a 4 cifras significativas\n",
    "x_trunc = 3.142\n",
    "y_trunc = 1.414\n",
    "print()\n",
    "print(\"Valor truncado de x:\", x_trunc)\n",
    "print(\"Valor truncado de y:\", y_trunc)\n",
    "res_trunc = x_trunc - y_trunc\n",
    "print(\"Resta de los números truncados:\", res_trunc)\n",
    "\n",
    "# Error relativo\n",
    "error_rel = abs((resta - res_trunc) / resta)\n",
    "print(\"Error relativo:\", error_rel)"
   ]
  },
  {
   "cell_type": "markdown",
   "id": "cfe37c5b",
   "metadata": {},
   "source": [
    "## Producto"
   ]
  },
  {
   "cell_type": "code",
   "execution_count": 22,
   "id": "1f00bffe",
   "metadata": {},
   "outputs": [
    {
     "name": "stdout",
     "output_type": "stream",
     "text": [
      "Valor original de x: 2.718281828459045\n",
      "Valor original de y: 21.166666666666668\n",
      "\n",
      "Valor truncado de x: 2.718\n",
      "Valor truncado de y: 21.16\n",
      "Multiplicación de los números truncados: 57.51288\n",
      "Error real: 0.024085369049785754\n"
     ]
    }
   ],
   "source": [
    "x= math.e  # Número de Euler\n",
    "y = 127 / 6\n",
    "print(\"Valor original de x:\", x)\n",
    "print(\"Valor original de y:\", y)\n",
    "mult = x * y\n",
    "\n",
    "print()\n",
    "x_trunc = 2.718\n",
    "y_trunc = 21.16\n",
    "print(\"Valor truncado de x:\", x_trunc)\n",
    "print(\"Valor truncado de y:\", y_trunc)\n",
    "mult_trunc = x_trunc * y_trunc\n",
    "print(\"Multiplicación de los números truncados:\", mult_trunc)\n",
    "\n",
    "# Error real\n",
    "error_real = abs(mult - mult_trunc)\n",
    "print(\"Error real:\", error_real)"
   ]
  },
  {
   "cell_type": "markdown",
   "id": "ba34e4f4",
   "metadata": {},
   "source": [
    "## División"
   ]
  },
  {
   "cell_type": "code",
   "execution_count": 26,
   "id": "7062cd29",
   "metadata": {},
   "outputs": [
    {
     "name": "stdout",
     "output_type": "stream",
     "text": [
      "Valor original de x: 75.71\n",
      "Valor original de y: 7.14142842854285\n",
      "\n",
      "Valor truncado de x: 75.71\n",
      "Valor truncado de y: 7.141\n",
      "División de los números truncados: 10.602156560705783\n",
      "Error relativo porcentual: 0.005999559485374955 %\n"
     ]
    }
   ],
   "source": [
    "x = 75.71\n",
    "y = math.sqrt(51)  # Raíz cuadrada de 51\n",
    "print(\"Valor original de x:\", x)\n",
    "print(\"Valor original de y:\", y)\n",
    "div = x / y\n",
    "x_trunc = 75.71\n",
    "y_trunc = 7.141\n",
    "print()\n",
    "print(\"Valor truncado de x:\", x_trunc)\n",
    "print(\"Valor truncado de y:\", y_trunc)\n",
    "div_trunc = x_trunc / y_trunc\n",
    "print(\"División de los números truncados:\", div_trunc)\n",
    "\n",
    "# Error relativo porcentual\n",
    "error_rel_perc = abs((div - div_trunc) / div) * 100\n",
    "print(\"Error relativo porcentual:\", error_rel_perc, \"%\")"
   ]
  }
 ],
 "metadata": {
  "kernelspec": {
   "display_name": "base",
   "language": "python",
   "name": "python3"
  },
  "language_info": {
   "codemirror_mode": {
    "name": "ipython",
    "version": 3
   },
   "file_extension": ".py",
   "mimetype": "text/x-python",
   "name": "python",
   "nbconvert_exporter": "python",
   "pygments_lexer": "ipython3",
   "version": "3.12.4"
  }
 },
 "nbformat": 4,
 "nbformat_minor": 5
}
