{
 "cells": [
  {
   "cell_type": "markdown",
   "id": "97c2c736",
   "metadata": {},
   "source": [
    "# Cálculo de Errores"
   ]
  },
  {
   "cell_type": "markdown",
   "id": "70b5df0e",
   "metadata": {},
   "source": [
    "**Nota: Para los ejemplos relacionados con este tema, se utilizará la constante de Euler disponible en la biblioteca math de Python y el tipo de error de redondeo.**"
   ]
  },
  {
   "cell_type": "code",
   "execution_count": 8,
   "id": "a5ae8362",
   "metadata": {},
   "outputs": [],
   "source": [
    "import math\n",
    "\n",
    "# Valor real de la constante de Euler\n",
    "p = math.e"
   ]
  },
  {
   "cell_type": "markdown",
   "id": "8fa1aa72",
   "metadata": {},
   "source": [
    "## Error Real"
   ]
  },
  {
   "cell_type": "markdown",
   "id": "624d2cb6",
   "metadata": {},
   "source": [
    "$$ \\text{Error}_{\\text{real}} = p - p^*$$"
   ]
  },
  {
   "cell_type": "code",
   "execution_count": 9,
   "id": "60051ea5",
   "metadata": {},
   "outputs": [
    {
     "name": "stdout",
     "output_type": "stream",
     "text": [
      "Valor real (p): 2.718281828459045\n",
      "Valor aproximado (p*): 2.7183\n",
      "Error real: -1.8171540955069787e-05\n"
     ]
    }
   ],
   "source": [
    "# Valor aproximado redondeado a 5 cifras significativas\n",
    "p_approx = 2.7183\n",
    "\n",
    "# Cálculo del error real\n",
    "error_real = p - p_approx\n",
    "\n",
    "print(f\"Valor real (p): {p}\")\n",
    "print(f\"Valor aproximado (p*): {p_approx}\")\n",
    "print(f\"Error real: {error_real}\")"
   ]
  },
  {
   "cell_type": "markdown",
   "id": "4ecdf957",
   "metadata": {},
   "source": [
    "## Error Absoluto"
   ]
  },
  {
   "cell_type": "markdown",
   "id": "9c9a79fa",
   "metadata": {},
   "source": [
    "$$ \\text{Error}_{\\text{absoluto}} = |p - p^*|$$"
   ]
  },
  {
   "cell_type": "code",
   "execution_count": 10,
   "id": "ee1b0c60",
   "metadata": {},
   "outputs": [
    {
     "name": "stdout",
     "output_type": "stream",
     "text": [
      "Valor aproximado (p*): 2.71828\n",
      "Error absoluto: 1.828459045061237e-06\n"
     ]
    }
   ],
   "source": [
    "# Valor aproximado redondeado a 6 cifras significativas\n",
    "p_aprox = 2.71828\n",
    "\n",
    "# Cálculo del error absoluto\n",
    "error_absoluto = abs(p - p_aprox)\n",
    "\n",
    "print(f\"Valor aproximado (p*): {p_aprox}\")\n",
    "print(f\"Error absoluto: {error_absoluto}\")"
   ]
  },
  {
   "cell_type": "markdown",
   "id": "d90547e0",
   "metadata": {},
   "source": [
    "## Error Relativo"
   ]
  },
  {
   "cell_type": "markdown",
   "id": "da2ed2a7",
   "metadata": {},
   "source": [
    "$$ \\text{Error}_{\\text{relativo}} = \\left| \\frac{p - p^*}{p} \\right| \\text{, p}\\neq 0$$"
   ]
  },
  {
   "cell_type": "code",
   "execution_count": 11,
   "id": "9fb78ddd",
   "metadata": {},
   "outputs": [
    {
     "name": "stdout",
     "output_type": "stream",
     "text": [
      "Valor aproximado (p*): 2.71828183\n",
      "Error relativo: 5.668856345535349e-10\n"
     ]
    }
   ],
   "source": [
    "# Valor aproximado redondeado a 9 cifras significativas\n",
    "p_aprox_9 = 2.71828183\n",
    "\n",
    "# Cálculo del error relativo\n",
    "error_relativo = abs((p - p_aprox_9) / p)\n",
    "\n",
    "print(f\"Valor aproximado (p*): {p_aprox_9}\")\n",
    "print(f\"Error relativo: {error_relativo}\")"
   ]
  },
  {
   "cell_type": "markdown",
   "id": "72e3ef72",
   "metadata": {},
   "source": [
    "## Error Relativo Porcentual"
   ]
  },
  {
   "cell_type": "markdown",
   "id": "51d8fe3c",
   "metadata": {},
   "source": [
    "$$ \\text{Error}_{\\text{relativo}} = \\left| \\frac{p - p^*}{p} \\right| \\times 100\\% $$"
   ]
  },
  {
   "cell_type": "code",
   "execution_count": 13,
   "id": "1bf54352",
   "metadata": {},
   "outputs": [
    {
     "name": "stdout",
     "output_type": "stream",
     "text": [
      "Valor aproximado (p*): 2.72\n",
      "Error relativo porcentual: 0.06320799863232397 %\n"
     ]
    }
   ],
   "source": [
    "# Valor aproximado redondeado a 3 cifras significativas\n",
    "p_aprox_3 = 2.72\n",
    "\n",
    "# Cálculo del error relativo porcentual\n",
    "error_relativo_porcentual = abs((p - p_aprox_3) / p) * 100\n",
    "\n",
    "print(f\"Valor aproximado (p*): {p_aprox_3}\")\n",
    "print(f\"Error relativo porcentual: {error_relativo_porcentual} %\")"
   ]
  }
 ],
 "metadata": {
  "kernelspec": {
   "display_name": "base",
   "language": "python",
   "name": "python3"
  },
  "language_info": {
   "codemirror_mode": {
    "name": "ipython",
    "version": 3
   },
   "file_extension": ".py",
   "mimetype": "text/x-python",
   "name": "python",
   "nbconvert_exporter": "python",
   "pygments_lexer": "ipython3",
   "version": "3.12.4"
  }
 },
 "nbformat": 4,
 "nbformat_minor": 5
}
