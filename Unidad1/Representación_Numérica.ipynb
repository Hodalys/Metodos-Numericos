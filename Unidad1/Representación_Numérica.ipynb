{
 "cells": [
  {
   "cell_type": "markdown",
   "id": "2fd84861",
   "metadata": {},
   "source": [
    "# Representación de Números en Punto Flotante"
   ]
  },
  {
   "cell_type": "markdown",
   "id": "e32d6c59",
   "metadata": {},
   "source": [
    "## Representación de 32 bits"
   ]
  },
  {
   "cell_type": "markdown",
   "id": "c8558d7e",
   "metadata": {},
   "source": [
    "### Fórmula de la Representación Numérica\n",
    "\n",
    "La representación numérica se define como:\n",
    "\n",
    "$$\n",
    "x = (-1)^s \\cdot 2^{c-127} \\cdot (1 + f)\n",
    "$$\n",
    "\n",
    "Donde:\n",
    "- \\(s\\) es el signo,\n",
    "- \\(c\\) es el exponente,\n",
    "- \\(f\\) es la mantisa.\n"
   ]
  },
  {
   "cell_type": "code",
   "execution_count": 2,
   "id": "340de92c",
   "metadata": {},
   "outputs": [
    {
     "name": "stdout",
     "output_type": "stream",
     "text": [
      "Número: 263.3\n",
      "Representación en punto flotante de 32 bits: 01000011100000111010011001100110\n"
     ]
    }
   ],
   "source": [
    "def obtener_signo(numero):\n",
    "    if numero >= 0:\n",
    "        return 0\n",
    "    else:\n",
    "        return 1\n",
    "\n",
    "def obtener_exponente(numero):\n",
    "    # Convertir la parte entera a binario\n",
    "    parte_entera = int(abs(numero))\n",
    "    binario_entero = bin(parte_entera)[2:]\n",
    "    \n",
    "    # Convertir la parte fraccionaria a binario\n",
    "    parte_fraccionaria = abs(numero) - parte_entera\n",
    "    binario_fraccionario = []\n",
    "    while parte_fraccionaria and len(binario_fraccionario) < 23:\n",
    "        parte_fraccionaria *= 2\n",
    "        bit = int(parte_fraccionaria)\n",
    "        binario_fraccionario.append(str(bit))\n",
    "        parte_fraccionaria -= bit\n",
    "    \n",
    "    # Normalizar el número\n",
    "    if '1' in binario_entero:\n",
    "        exponente = len(binario_entero) - 1\n",
    "    else:\n",
    "        exponente = -binario_fraccionario.index('1') - 1\n",
    "    \n",
    "    # Ajustar exponente al sesgo de 127\n",
    "    exponente_sesgado = exponente + 127\n",
    "    return f'{exponente_sesgado:08b}'\n",
    "\n",
    "def obtener_mantisa(numero):\n",
    "    # Convertir la parte entera a binario\n",
    "    parte_entera = int(abs(numero))\n",
    "    binario_entero = bin(parte_entera)[2:]\n",
    "    \n",
    "    # Convertir la parte fraccionaria a binario\n",
    "    parte_fraccionaria = abs(numero) - parte_entera\n",
    "    binario_fraccionario = []\n",
    "    while parte_fraccionaria and len(binario_fraccionario) < 23:\n",
    "        parte_fraccionaria *= 2\n",
    "        bit = int(parte_fraccionaria)\n",
    "        binario_fraccionario.append(str(bit))\n",
    "        parte_fraccionaria -= bit\n",
    "    \n",
    "    # Normalizar el número\n",
    "    if '1' in binario_entero:\n",
    "        mantisa = binario_entero[1:] + ''.join(binario_fraccionario)\n",
    "    else:\n",
    "        mantisa = ''.join(binario_fraccionario)[1:]\n",
    "    \n",
    "    # Ajustar mantisa a 23 bits\n",
    "    return mantisa[:23].ljust(23, '0')\n",
    "\n",
    "def convertir_a_punto_flotante(numero):\n",
    "    signo = obtener_signo(numero)\n",
    "    exponente = obtener_exponente(numero)\n",
    "    mantisa = obtener_mantisa(numero)\n",
    "    return f'{signo}{exponente}{mantisa}'\n",
    "\n",
    "# Ejemplo de uso\n",
    "numero = 263.3  # Usamos la variable ya definida\n",
    "representacion = convertir_a_punto_flotante(numero)\n",
    "print(f'Número: {numero}')\n",
    "print(f'Representación en punto flotante de 32 bits: {representacion}')"
   ]
  },
  {
   "cell_type": "code",
   "execution_count": null,
   "id": "0bff8e71",
   "metadata": {},
   "outputs": [],
   "source": [
    "def decimal_a_binario(numero):\n",
    "    if numero == 0:\n",
    "        return \"0\"\n",
    "    binario = \"\"\n",
    "    while numero > 0:\n",
    "        residuo = numero % 2\n",
    "        binario = str(residuo) + binario\n",
    "        numero //= 2\n",
    "    return binario\n",
    "\n",
    "# Ejemplo de uso\n",
    "numero_entero = 25\n",
    "binario = decimal_a_binario(numero_entero)\n",
    "print(f'Número decimal: {numero_entero}')\n",
    "print(f'Número binario: {binario}')"
   ]
  },
  {
   "cell_type": "code",
   "execution_count": null,
   "id": "03313a4a",
   "metadata": {},
   "outputs": [],
   "source": []
  }
 ],
 "metadata": {
  "kernelspec": {
   "display_name": "base",
   "language": "python",
   "name": "python3"
  },
  "language_info": {
   "codemirror_mode": {
    "name": "ipython",
    "version": 3
   },
   "file_extension": ".py",
   "mimetype": "text/x-python",
   "name": "python",
   "nbconvert_exporter": "python",
   "pygments_lexer": "ipython3",
   "version": "3.12.4"
  }
 },
 "nbformat": 4,
 "nbformat_minor": 5
}
